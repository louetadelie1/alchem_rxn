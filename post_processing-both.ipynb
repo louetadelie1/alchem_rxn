{
 "cells": [
  {
   "cell_type": "code",
   "execution_count": 27,
   "metadata": {},
   "outputs": [],
   "source": [
    "import MDAnalysis as mda\n",
    "import numpy as np\n",
    "import matplotlib.pyplot as plt\n",
    "import glob\n",
    "import pandas as pd\n",
    "from os.path import join\n",
    "from glob import glob\n",
    "from matplotlib import pyplot as plt\n",
    "from MDAnalysis import transformations\n",
    "from decimal import Decimal\n",
    "\n",
    "from matplotlib import cm \n",
    "from matplotlib.colors import ListedColormap,LinearSegmentedColormap\n",
    "import matplotlib.colors\n",
    "import seaborn as sns\n",
    "\n",
    "from itertools import islice\n",
    "import glob\n",
    "import shutil\n",
    "import subprocess"
   ]
  },
  {
   "cell_type": "code",
   "execution_count": 28,
   "metadata": {},
   "outputs": [],
   "source": [
    "def label_pair(bim):\n",
    "    line=bim\n",
    "    Type = line.split(\"/\")\n",
    "    x = Type[8]\n",
    "    y = x.split(\"pair\")\n",
    "    u = y[1]\n",
    "    #y=Type[8]\n",
    "    #return(x,y)\n",
    "    return(u)\n",
    "    \n",
    "    #y=Type[8]\n",
    "    #return(x,y)"
   ]
  },
  {
   "cell_type": "code",
   "execution_count": 29,
   "metadata": {},
   "outputs": [],
   "source": [
    "def label_log(bim):\n",
    "    line=bim\n",
    "    Type = line.split(\"/\")\n",
    "    x = Type[9]\n",
    "    y = x.split(\".\")\n",
    "    y = y[0]\n",
    "    u=y.split(\"_\")\n",
    "    u=u[1]\n",
    "    #y=Type[8]\n",
    "    #return(x,y)\n",
    "    return(u)"
   ]
  },
  {
   "cell_type": "markdown",
   "metadata": {},
   "source": [
    "# Processing Mutated PE"
   ]
  },
  {
   "cell_type": "markdown",
   "metadata": {},
   "source": [
    "The following script extracts the time and PE from the mutated full length trajectory (untampered xtc file and tpr file)"
   ]
  },
  {
   "cell_type": "code",
   "execution_count": 30,
   "metadata": {},
   "outputs": [],
   "source": [
    "## This is the path to the first derived trajectory before the trjconv -sep command (og. SP1-SP2 conformation)\n",
    "path_u1= ('//ptmp/adlouet/alchem/running_lambda/ASASA/A_SP1_A_SP2_A/pair*')\n",
    "filenames_time_u1=glob.glob(path_u1+'/md_*')\n",
    "#filenames_time_u1"
   ]
  },
  {
   "cell_type": "code",
   "execution_count": 31,
   "metadata": {},
   "outputs": [],
   "source": [
    "path_u2= ('//ptmp/adlouet/alchem/running_lambda/ASASA/A_SP2_A_SP1_A/pair*')\n",
    "filenames_time_u2=glob.glob(path_u2+'/md_*')\n",
    "#filenames_time_u2"
   ]
  },
  {
   "cell_type": "code",
   "execution_count": 19,
   "metadata": {},
   "outputs": [],
   "source": [
    "def parsing_u1(path):\n",
    "    new_PE=[]\n",
    "    new_md=[]\n",
    "    new_ts=[]\n",
    "    for f in path:\n",
    "        outfile = open(f,'r')\n",
    "        data = outfile.readlines()\n",
    "        outfile.close()\n",
    "\n",
    "        line = subprocess.check_output(['tail', '-1', f])\n",
    "        time_line = line\n",
    "        log_number=label_log(str(f))\n",
    "        pair_number=label_pair(str(f))\n",
    "        oper=[]\n",
    "        for index, line in enumerate(data):\n",
    "            if \"Potential    Kinetic En.\" in line:\n",
    "                PE=(\"\".join(data[index + 1]))\n",
    "                PE_word = PE.split()\n",
    "                potenital_energy=(PE_word[0]) \n",
    "                oper.append(potenital_energy)\n",
    "\n",
    "        save=oper.pop()\n",
    "\n",
    "        new_PE.append(oper)\n",
    "        new_PE.append(log_number)        \n",
    "        new_PE.append(pair_number)\n",
    "        \n",
    "    data=[new_PE[i:i+3] for i in range(0, len(new_PE), 3)]\n",
    "    new_df = pd.DataFrame(data=data)\n",
    "    new_df.columns=['PE1','md','ts']\n",
    "    new_df[['PE_0','PE_0.5']] = pd.DataFrame(new_df.PE1.tolist(), index= new_df.index)\n",
    "    df=new_df.drop(columns=['PE1'])\n",
    "    df_final = df.sort_values(['ts', 'md'],key=lambda val: val.astype('float64'))\n",
    "    df_final.replace(to_replace=[None], value=0, inplace=True)\n",
    "    df_final['PE_0.5'] = df_final['PE_0.5'].astype('float')\n",
    "    df_final['PE_0'] = df_final['PE_0'].astype('float')\n",
    "    df_final['delta_PE']=(df_final['PE_0.5'])-(df_final['PE_0'])\n",
    "    df_final['delta_PE'] = np.where(df_final['PE_0.5'] == 0, '0.0', df_final['delta_PE'])\n",
    "    df_final['delta_PE'] = df_final['delta_PE'].astype('float')\n",
    "    df2=df_final.groupby('ts')['delta_PE'].sum()    \n",
    "    return(df2)"
   ]
  },
  {
   "cell_type": "code",
   "execution_count": 20,
   "metadata": {},
   "outputs": [],
   "source": [
    "def parsing_u2(path):\n",
    "    new_PE=[]\n",
    "    new_md=[]\n",
    "    new_ts=[]\n",
    "    for f in path:\n",
    "        outfile = open(f,'r')\n",
    "        data = outfile.readlines()\n",
    "        outfile.close()\n",
    "\n",
    "        line = subprocess.check_output(['tail', '-1', f])\n",
    "        time_line = line\n",
    "        log_number=label_log(str(f))\n",
    "        pair_number=label_pair(str(f))\n",
    "        oper=[]\n",
    "        for index, line in enumerate(data):\n",
    "            if \"Potential    Kinetic En.\" in line:\n",
    "                PE=(\"\".join(data[index + 1]))\n",
    "                PE_word = PE.split()\n",
    "                potenital_energy=(PE_word[0]) \n",
    "                oper.append(potenital_energy)\n",
    "\n",
    "        save=oper.pop()\n",
    "\n",
    "        new_PE.append(oper)\n",
    "        new_PE.append(log_number)        \n",
    "        new_PE.append(pair_number)\n",
    "        \n",
    "    data=[new_PE[i:i+3] for i in range(0, len(new_PE), 3)]\n",
    "    new_df = pd.DataFrame(data=data)\n",
    "    new_df.columns=['PE1','md','ts']\n",
    "    new_df[['PE_0','PE_0.5']] = pd.DataFrame(new_df.PE1.tolist(), index= new_df.index)\n",
    "    df=new_df.drop(columns=['PE1'])\n",
    "    df_final = df.sort_values(['ts', 'md'],key=lambda val: val.astype('float64'))\n",
    "    df_final.replace(to_replace=[None], value=0, inplace=True)\n",
    "    df_final['PE_0.5'] = df_final['PE_0.5'].astype('float')\n",
    "    df_final['PE_0'] = df_final['PE_0'].astype('float')\n",
    "    \n",
    "    ### This is where the code differs to keep the \n",
    "    df_final['delta_PE']=(df_final['PE_0'])-(df_final['PE_0.5'])\n",
    "    ###\n",
    "    df_final['delta_PE'] = np.where(df_final['PE_0.5'] == 0, '0.0', df_final['delta_PE'])\n",
    "    df_final['delta_PE'] = df_final['delta_PE'].astype('float')\n",
    "    df2=df_final.groupby('ts')['delta_PE'].sum()    \n",
    "    return(df2)"
   ]
  },
  {
   "cell_type": "code",
   "execution_count": 21,
   "metadata": {},
   "outputs": [],
   "source": [
    "u1=parsing_u1(filenames_time_u1)\n",
    "u2=parsing_u2(filenames_time_u2)"
   ]
  },
  {
   "cell_type": "code",
   "execution_count": 22,
   "metadata": {},
   "outputs": [
    {
     "data": {
      "text/plain": [
       "<matplotlib.legend.Legend at 0x153011825ea0>"
      ]
     },
     "execution_count": 22,
     "metadata": {},
     "output_type": "execute_result"
    },
    {
     "data": {
      "image/png": "[encoded data removed]",
      "text/plain": [
       "<Figure size 640x480 with 1 Axes>"
      ]
     },
     "metadata": {},
     "output_type": "display_data"
    }
   ],
   "source": [
    "B = plt.hist(u1, 50, density=True, facecolor='#6baed6', alpha=0.75, label='State A')\n",
    "A = plt.hist(u2, 50, density=True, facecolor='#74c476', alpha=0.75,label='State B')\n",
    "#ax.legend(loc=1)\n",
    "plt.ylabel('Density')\n",
    "plt.xlabel(' \\u0394 U')\n",
    "plt.title('Weighted FE histogram')\n",
    "plt.legend()"
   ]
  },
  {
   "cell_type": "code",
   "execution_count": 23,
   "metadata": {},
   "outputs": [],
   "source": [
    "df_A = pd.DataFrame({'U':A[1]})\n",
    "df_A2=pd.DataFrame({'pU':A[0]})\n",
    "frames_A = [df_A,df_A2]\n",
    "result_A = pd.concat(frames_A,axis=1, join=\"inner\")"
   ]
  },
  {
   "cell_type": "code",
   "execution_count": 24,
   "metadata": {},
   "outputs": [],
   "source": [
    "df_B = pd.DataFrame({'U':B[1]})\n",
    "df_B2=pd.DataFrame({'pU':B[0]})\n",
    "frames_B = [df_B,df_B2]\n",
    "result_B = pd.concat(frames_B,axis=1, join=\"inner\")"
   ]
  },
  {
   "cell_type": "code",
   "execution_count": 25,
   "metadata": {},
   "outputs": [],
   "source": [
    "from numpy import log as ln\n",
    "kBT=2.5 #at 298 K"
   ]
  },
  {
   "cell_type": "code",
   "execution_count": null,
   "metadata": {},
   "outputs": [],
   "source": []
  },
  {
   "cell_type": "code",
   "execution_count": 26,
   "metadata": {},
   "outputs": [
    {
     "ename": "NameError",
     "evalue": "name 'state_A_df' is not defined",
     "output_type": "error",
     "traceback": [
      "\u001b[0;31m---------------------------------------------------------------------------\u001b[0m",
      "\u001b[0;31mNameError\u001b[0m                                 Traceback (most recent call last)",
      "Cell \u001b[0;32mIn[26], line 6\u001b[0m\n\u001b[1;32m      4\u001b[0m lam\u001b[38;5;241m=\u001b[39m[]\n\u001b[1;32m      5\u001b[0m lam2\u001b[38;5;241m=\u001b[39m[]\n\u001b[0;32m----> 6\u001b[0m \u001b[38;5;28;01mfor\u001b[39;00m x,y \u001b[38;5;129;01min\u001b[39;00m \u001b[38;5;28mzip\u001b[39m(\u001b[43mstate_A_df\u001b[49m[\u001b[38;5;124m'\u001b[39m\u001b[38;5;124mDelta_PE\u001b[39m\u001b[38;5;124m'\u001b[39m],state_B_df[\u001b[38;5;124m'\u001b[39m\u001b[38;5;124mDelta_PE\u001b[39m\u001b[38;5;124m'\u001b[39m]):\n\u001b[1;32m      7\u001b[0m     \u001b[38;5;66;03m#lam= 1/1+(exp((-1/KBT)*(x-G1)))\u001b[39;00m\n\u001b[1;32m      8\u001b[0m     lam_a\u001b[38;5;241m=\u001b[39m ln(\u001b[38;5;241m1\u001b[39m\u001b[38;5;241m/\u001b[39m(\u001b[38;5;241m1\u001b[39m\u001b[38;5;241m+\u001b[39m(exp((\u001b[38;5;241m-\u001b[39m\u001b[38;5;241m1\u001b[39m\u001b[38;5;241m/\u001b[39mKT)\u001b[38;5;241m*\u001b[39m(x\u001b[38;5;241m-\u001b[39mu)))))\n\u001b[1;32m      9\u001b[0m     lam_b\u001b[38;5;241m=\u001b[39m ln(\u001b[38;5;241m1\u001b[39m\u001b[38;5;241m/\u001b[39m(\u001b[38;5;241m1\u001b[39m\u001b[38;5;241m+\u001b[39m(exp((\u001b[38;5;241m-\u001b[39m\u001b[38;5;241m1\u001b[39m\u001b[38;5;241m/\u001b[39mKT)\u001b[38;5;241m*\u001b[39m(y\u001b[38;5;241m-\u001b[39mu)))))\n",
      "\u001b[0;31mNameError\u001b[0m: name 'state_A_df' is not defined"
     ]
    }
   ],
   "source": [
    "# tot=[]\n",
    "# #for u in state_A_df['Delta_PE']:\n",
    "# for u in range(0,3000):\n",
    "#     lam=[]\n",
    "#     lam2=[]\n",
    "#     for x,y in zip(state_A_df['Delta_PE'],state_B_df['Delta_PE']):\n",
    "#         #lam= 1/1+(exp((-1/KBT)*(x-G1)))\n",
    "#         lam_a= ln(1/(1+(exp((-1/KT)*(x-u)))))\n",
    "#         lam_b= ln(1/(1+(exp((-1/KT)*(y-u)))))\n",
    "#         lam.append(lam_a)\n",
    "#         lam2.append(lam_b)\n",
    "\n",
    "#     lam1=sum(lam)\n",
    "#     lam2=sum(lam2)\n",
    "#     Total=(lam1+lam2)\n",
    "#     tot.append(Total)"
   ]
  },
  {
   "cell_type": "code",
   "execution_count": null,
   "metadata": {},
   "outputs": [],
   "source": []
  }
 ],
 "metadata": {
  "kernelspec": {
   "display_name": "Python 3 (ipykernel)",
   "language": "python",
   "name": "python3"
  },
  "language_info": {
   "codemirror_mode": {
    "name": "ipython",
    "version": 3
   },
   "file_extension": ".py",
   "mimetype": "text/x-python",
   "name": "python",
   "nbconvert_exporter": "python",
   "pygments_lexer": "ipython3",
   "version": "3.10.9"
  }
 },
 "nbformat": 4,
 "nbformat_minor": 4
}
