{
 "cells": [
  {
   "cell_type": "code",
   "execution_count": 1,
   "id": "7e5ce817-2c55-423e-9e15-a7b46b73e6b4",
   "metadata": {},
   "outputs": [
    {
     "name": "stderr",
     "output_type": "stream",
     "text": [
      "/u/adlouet/conda-envs/tunnel/lib/python3.10/site-packages/tqdm/auto.py:22: TqdmWarning: IProgress not found. Please update jupyter and ipywidgets. See https://ipywidgets.readthedocs.io/en/stable/user_install.html\n",
      "  from .autonotebook import tqdm as notebook_tqdm\n"
     ]
    }
   ],
   "source": [
    "import MDAnalysis as mda\n",
    "import numpy as np\n",
    "import matplotlib.pyplot as plt\n",
    "import glob\n",
    "import pandas as pd\n",
    "from os.path import join\n",
    "from glob import glob\n",
    "from matplotlib import pyplot as plt\n",
    "from MDAnalysis import transformations\n",
    "from decimal import Decimal\n",
    "\n",
    "from matplotlib import cm \n",
    "from matplotlib.colors import ListedColormap,LinearSegmentedColormap\n",
    "import matplotlib.colors\n",
    "import seaborn as sns\n",
    "\n",
    "from itertools import islice\n",
    "import glob\n",
    "import shutil"
   ]
  },
  {
   "cell_type": "code",
   "execution_count": 2,
   "id": "b6b04cd8-9621-4a9a-a91c-4b0fbbe750de",
   "metadata": {},
   "outputs": [],
   "source": [
    "def listToStringWithoutBrackets(list1):\n",
    "    return str(list1).replace('[','').replace(']','')"
   ]
  },
  {
   "cell_type": "code",
   "execution_count": 3,
   "id": "5d2381e4-6777-4506-b9ce-ca2f45ce9fbd",
   "metadata": {},
   "outputs": [],
   "source": [
    "# The following path shouldn't be touched\n",
    "prepared_ff=('//ptmp/adlouet/alchem/lambda/input_files/prepared_files')"
   ]
  },
  {
   "cell_type": "markdown",
   "id": "cebfa992-a1e1-4a89-ac72-32d558d787a3",
   "metadata": {},
   "source": [
    "##### This path needs to be altered and needs the following files in directory : tpr, (1 full length) xtc, sol.txt, residuetypes.dat\n"
   ]
  },
  {
   "cell_type": "code",
   "execution_count": 4,
   "id": "70d5a9dd-2ba7-467d-bbc9-f1a1a38d007b",
   "metadata": {},
   "outputs": [],
   "source": [
    "path=(\"//ptmp/adlouet/alchem/testing_method/ASASA/A_SP1_A_SP2_A/rep_0\")"
   ]
  },
  {
   "cell_type": "markdown",
   "id": "56f6009e-4438-463b-806b-8b2be7ca08e0",
   "metadata": {},
   "source": [
    "## Pre-Processing on original Conformation"
   ]
  },
  {
   "cell_type": "markdown",
   "id": "0c3a8df4",
   "metadata": {},
   "source": [
    "This bash script prints out a new gro file every 10 frames (gmx trjconv -sep command), and creates a new file for each new gro. It then adds the preperared_files ff in each pair file, and changes the solvent and mol size so that it correpsonds with what is currently in the gro file.  "
   ]
  },
  {
   "cell_type": "code",
   "execution_count": null,
   "id": "3cdc3936-1126-47a6-83b8-dcf16ee8dc5b",
   "metadata": {},
   "outputs": [],
   "source": [
    "%%bash -s \"$prepared_ff\" \"$path\"\n",
    "\n",
    "module load gromacs/2021.5\n",
    "\n",
    "cd $2\n",
    "\n",
    "echo 0 |gmx trjconv -f *.xtc -s *.tpr -skip 10 -sep -o pair.gro\n",
    "\n",
    "for x in ./pair*; do\n",
    "mkdir \"${x%.*}\" && mv \"$x\" \"${x%.*}\"\n",
    "done\n",
    "\n",
    "#cp -r //ptmp/adlouet/alchem/lambda/input_files/prepared_files .\n",
    "\n",
    "cp -r $1 .\n",
    "\n",
    "for x in ./pair*; do\n",
    "(cd ${x} && ln -s ../prepared_files .)\n",
    "done\n",
    "\n",
    "cd prepared_files\n",
    "for x in lambda_{0..10}; do (cd ${x} && cat ../../sol.txt >> *.top); done\n",
    "cd ../"
   ]
  },
  {
   "cell_type": "markdown",
   "id": "e513b1d3-d3c2-4cc5-b5cf-31e68bfffa5d",
   "metadata": {},
   "source": [
    "This calls another python script to go into gro file and change atom # on line two and adds the new ZH (dummy) atom in SP2"
   ]
  },
  {
   "cell_type": "code",
   "execution_count": null,
   "id": "2a8c5cb4-6d86-44cb-8364-97a28dbb6c51",
   "metadata": {},
   "outputs": [],
   "source": [
    "for filename in glob.iglob(f'{path}/pair*'):\n",
    "    #print (filename)\n",
    "    %run adding_H-Copy1.ipynb\n",
    "\n",
    "    change_atom_number(filename)\n",
    "    #x=filename\n",
    "    "
   ]
  },
  {
   "cell_type": "markdown",
   "id": "9535fd97",
   "metadata": {},
   "source": [
    "The following script produces 10 new 2 step trajectories for lambda 0 --> lambda 1.0. Lambda 0 is SP1-SP2 (original form) to lambda SP1-SP2 (with SP1 H 0% electrostic interactions? and SP2 100% electrostatic interacitions?). This allows the addition of new H atom on SP2 and disappearence of H on SP1 without causing any steric clashing bc the addition of atoms is very gradual (10% at a time)."
   ]
  },
  {
   "cell_type": "markdown",
   "id": "0a73e3c7",
   "metadata": {},
   "source": [
    "##### This process produces a lot of files and takes a long time. Best executed with command jupyter nbconvert --to notebook --execute pre_processing1_0.ipynb --ExecutePreprocessor.timeout=-1 on cluster\n"
   ]
  },
  {
   "cell_type": "code",
   "execution_count": null,
   "id": "46948c53-e37b-484b-853d-3a2294bc4f7c",
   "metadata": {},
   "outputs": [],
   "source": [
    "%%bash -s \"$path\"\n",
    "\n",
    "module load gromacs/2021.5\n",
    "cd $1   \n",
    "array=(   {0..10} )\n",
    "\n",
    "array2=(   {z,0,1,2,3,4,5,6,7,8,9,10} )\n",
    "\n",
    "for x in pair*; do (cd ${x} &&\n",
    "\n",
    "    for index in ${!array[*]}; do \n",
    "      gmx grompp -f prepared_files0_1/lambda_\"${array[$index]}\"/*.mdp -c out_lam_\"${array2[$index]}\".gro -p prepared_files0_1/lambda_\"${array[$index]}\"/*.top -o topol_\"${array[$index]}\".tpr -maxwarn 20\n",
    "      gmx mdrun -s topol_\"${array[$index]}\".tpr\n",
    "      mv confout.gro out_lam_\"${array[$index]}\".gro\n",
    "      mv md.log md_\"${array[$index]}\".log;\n",
    "      rm \\#*\n",
    "        #echo \"${array[$index]} is in ${array2[$index]}\"\n",
    "    done);\n",
    "    \n",
    "done\n",
    "    \n",
    "    \n",
    "    "
   ]
  },
  {
   "cell_type": "markdown",
   "id": "5fac0da5",
   "metadata": {},
   "source": [
    "Can now run the post-processing script to extract PE information from each md.log file"
   ]
  },
  {
   "cell_type": "code",
   "execution_count": null,
   "id": "4936c76d",
   "metadata": {},
   "outputs": [],
   "source": []
  }
 ],
 "metadata": {
  "kernelspec": {
   "display_name": "Python 3 (ipykernel)",
   "language": "python",
   "name": "python3"
  },
  "language_info": {
   "codemirror_mode": {
    "name": "ipython",
    "version": 3
   },
   "file_extension": ".py",
   "mimetype": "text/x-python",
   "name": "python",
   "nbconvert_exporter": "python",
   "pygments_lexer": "ipython3",
   "version": "3.10.9"
  }
 },
 "nbformat": 4,
 "nbformat_minor": 5
}
